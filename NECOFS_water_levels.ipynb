{
 "cells": [
  {
   "cell_type": "markdown",
   "metadata": {},
   "source": [
    "# Extract NECOFS water levels using NetCDF4-Python and analyze/visualize with Pandas"
   ]
  },
  {
   "cell_type": "code",
   "execution_count": 1,
   "metadata": {
    "ExecuteTime": {
     "end_time": "2018-01-06T15:34:36.223311Z",
     "start_time": "2018-01-06T15:34:34.678230Z"
    }
   },
   "outputs": [],
   "source": [
    "# Plot forecast water levels from NECOFS model from list of lon,lat locations\n",
    "# (uses the nearest point, no interpolation)\n",
    "import netCDF4\n",
    "import datetime as dt\n",
    "import pandas as pd\n",
    "import numpy as np\n",
    "import matplotlib.pyplot as plt\n",
    "from io import StringIO\n",
    "%matplotlib inline"
   ]
  },
  {
   "cell_type": "code",
   "execution_count": 2,
   "metadata": {
    "ExecuteTime": {
     "end_time": "2018-01-06T15:34:36.237321Z",
     "start_time": "2018-01-06T15:34:36.225312Z"
    }
   },
   "outputs": [],
   "source": [
    "# Specify which forecast model \n",
    "\n",
    "#NECOFS MassBay grid\n",
    "model='Massbay'\n",
    "url='http://www.smast.umassd.edu:8080/thredds/dodsC/FVCOM/NECOFS/Forecasts/NECOFS_FVCOM_OCEAN_MASSBAY_FORECAST.nc'\n",
    "\n",
    "# GOM3 Grid\n",
    "#model='GOM3'\n",
    "#url='http://www.smast.umassd.edu:8080/thredds/dodsC/FVCOM/NECOFS/Forecasts/NECOFS_GOM3_FORECAST.nc'"
   ]
  },
  {
   "cell_type": "code",
   "execution_count": 3,
   "metadata": {
    "ExecuteTime": {
     "end_time": "2018-01-06T15:34:36.253332Z",
     "start_time": "2018-01-06T15:34:36.240323Z"
    }
   },
   "outputs": [],
   "source": [
    "# Enter desired (Station, Lat, Lon) values here:\n",
    "x = '''\n",
    "Station, Lat, Lon\n",
    "Boston,             42.368186, -71.047984\n",
    "Scituate Harbor,    42.199447, -70.720090\n",
    "Scituate Beach,     42.209973, -70.724523\n",
    "Falmouth Harbor,    41.541575, -70.608020\n",
    "Marion,             41.689008, -70.746576\n",
    "Marshfield,         42.108480, -70.648691\n",
    "Provincetown,       42.042745, -70.171180\n",
    "Sandwich,           41.767990, -70.466219\n",
    "Hampton Bay,        42.900103, -70.818510\n",
    "Gloucester,         42.610253, -70.660570\n",
    "'''"
   ]
  },
  {
   "cell_type": "code",
   "execution_count": 4,
   "metadata": {
    "ExecuteTime": {
     "end_time": "2018-01-06T15:34:36.271344Z",
     "start_time": "2018-01-06T15:34:36.256334Z"
    }
   },
   "outputs": [],
   "source": [
    "# Enter desired (Station, Lat, Lon) values here:\n",
    "x = '''\n",
    "Station, Lat, Lon\n",
    "Boston,             42.368186, -71.047984\n",
    "Scituate Harbor,    42.199447, -70.720090\n",
    "Sandwich,           41.767990, -70.466219\n",
    "'''"
   ]
  },
  {
   "cell_type": "code",
   "execution_count": 5,
   "metadata": {
    "ExecuteTime": {
     "end_time": "2018-01-06T15:34:36.302366Z",
     "start_time": "2018-01-06T15:34:36.274346Z"
    }
   },
   "outputs": [
    {
     "name": "stderr",
     "output_type": "stream",
     "text": [
      "C:\\Users\\rsignell\\AppData\\Local\\Continuum\\Miniconda3\\envs\\IOOS3b\\lib\\site-packages\\ipykernel\\__main__.py:2: ParserWarning: Falling back to the 'python' engine because the 'c' engine does not support regex separators (separators > 1 char and different from '\\s+' are interpreted as regex); you can avoid this warning by specifying engine='python'.\n",
      "  from ipykernel import kernelapp as app\n"
     ]
    }
   ],
   "source": [
    "# Create a Pandas DataFrame\n",
    "obs=pd.read_csv(StringIO(x.strip()), sep=\",\\s*\",index_col='Station')"
   ]
  },
  {
   "cell_type": "code",
   "execution_count": 6,
   "metadata": {
    "ExecuteTime": {
     "end_time": "2018-01-06T15:34:36.324381Z",
     "start_time": "2018-01-06T15:34:36.306369Z"
    }
   },
   "outputs": [
    {
     "data": {
      "text/html": [
       "<div>\n",
       "<style>\n",
       "    .dataframe thead tr:only-child th {\n",
       "        text-align: right;\n",
       "    }\n",
       "\n",
       "    .dataframe thead th {\n",
       "        text-align: left;\n",
       "    }\n",
       "\n",
       "    .dataframe tbody tr th {\n",
       "        vertical-align: top;\n",
       "    }\n",
       "</style>\n",
       "<table border=\"1\" class=\"dataframe\">\n",
       "  <thead>\n",
       "    <tr style=\"text-align: right;\">\n",
       "      <th></th>\n",
       "      <th>Lat</th>\n",
       "      <th>Lon</th>\n",
       "    </tr>\n",
       "    <tr>\n",
       "      <th>Station</th>\n",
       "      <th></th>\n",
       "      <th></th>\n",
       "    </tr>\n",
       "  </thead>\n",
       "  <tbody>\n",
       "    <tr>\n",
       "      <th>Boston</th>\n",
       "      <td>42.368186</td>\n",
       "      <td>-71.047984</td>\n",
       "    </tr>\n",
       "    <tr>\n",
       "      <th>Scituate Harbor</th>\n",
       "      <td>42.199447</td>\n",
       "      <td>-70.720090</td>\n",
       "    </tr>\n",
       "    <tr>\n",
       "      <th>Sandwich</th>\n",
       "      <td>41.767990</td>\n",
       "      <td>-70.466219</td>\n",
       "    </tr>\n",
       "  </tbody>\n",
       "</table>\n",
       "</div>"
      ],
      "text/plain": [
       "                       Lat        Lon\n",
       "Station                              \n",
       "Boston           42.368186 -71.047984\n",
       "Scituate Harbor  42.199447 -70.720090\n",
       "Sandwich         41.767990 -70.466219"
      ]
     },
     "execution_count": 6,
     "metadata": {},
     "output_type": "execute_result"
    }
   ],
   "source": [
    "obs"
   ]
  },
  {
   "cell_type": "code",
   "execution_count": 7,
   "metadata": {
    "ExecuteTime": {
     "end_time": "2018-01-06T15:34:36.350400Z",
     "start_time": "2018-01-06T15:34:36.327384Z"
    }
   },
   "outputs": [],
   "source": [
    "# find the indices of the points in (x,y) closest to the points in (xi,yi)\n",
    "def nearxy(x,y,xi,yi):\n",
    "    ind = np.ones(len(xi),dtype=int)\n",
    "    for i in np.arange(len(xi)):\n",
    "        dist = np.sqrt((x-xi[i])**2+(y-yi[i])**2)\n",
    "        ind[i] = dist.argmin()\n",
    "    return ind"
   ]
  },
  {
   "cell_type": "code",
   "execution_count": 8,
   "metadata": {
    "ExecuteTime": {
     "end_time": "2018-01-06T15:34:38.085613Z",
     "start_time": "2018-01-06T15:34:36.353402Z"
    }
   },
   "outputs": [],
   "source": [
    "# open NECOFS remote OPeNDAP dataset \n",
    "nc=netCDF4.Dataset(url).variables"
   ]
  },
  {
   "cell_type": "code",
   "execution_count": 9,
   "metadata": {
    "ExecuteTime": {
     "end_time": "2018-01-06T15:34:38.627993Z",
     "start_time": "2018-01-06T15:34:38.090617Z"
    }
   },
   "outputs": [
    {
     "data": {
      "text/html": [
       "<div>\n",
       "<style>\n",
       "    .dataframe thead tr:only-child th {\n",
       "        text-align: right;\n",
       "    }\n",
       "\n",
       "    .dataframe thead th {\n",
       "        text-align: left;\n",
       "    }\n",
       "\n",
       "    .dataframe tbody tr th {\n",
       "        vertical-align: top;\n",
       "    }\n",
       "</style>\n",
       "<table border=\"1\" class=\"dataframe\">\n",
       "  <thead>\n",
       "    <tr style=\"text-align: right;\">\n",
       "      <th></th>\n",
       "      <th>Lat</th>\n",
       "      <th>Lon</th>\n",
       "      <th>0-Based Index</th>\n",
       "    </tr>\n",
       "    <tr>\n",
       "      <th>Station</th>\n",
       "      <th></th>\n",
       "      <th></th>\n",
       "      <th></th>\n",
       "    </tr>\n",
       "  </thead>\n",
       "  <tbody>\n",
       "    <tr>\n",
       "      <th>Boston</th>\n",
       "      <td>42.368186</td>\n",
       "      <td>-71.047984</td>\n",
       "      <td>90913</td>\n",
       "    </tr>\n",
       "    <tr>\n",
       "      <th>Scituate Harbor</th>\n",
       "      <td>42.199447</td>\n",
       "      <td>-70.720090</td>\n",
       "      <td>37964</td>\n",
       "    </tr>\n",
       "    <tr>\n",
       "      <th>Sandwich</th>\n",
       "      <td>41.767990</td>\n",
       "      <td>-70.466219</td>\n",
       "      <td>38036</td>\n",
       "    </tr>\n",
       "  </tbody>\n",
       "</table>\n",
       "</div>"
      ],
      "text/plain": [
       "                       Lat        Lon  0-Based Index\n",
       "Station                                             \n",
       "Boston           42.368186 -71.047984          90913\n",
       "Scituate Harbor  42.199447 -70.720090          37964\n",
       "Sandwich         41.767990 -70.466219          38036"
      ]
     },
     "execution_count": 9,
     "metadata": {},
     "output_type": "execute_result"
    }
   ],
   "source": [
    "# find closest NECOFS nodes to station locations\n",
    "obs['0-Based Index'] = nearxy(nc['lon'][:],nc['lat'][:],obs['Lon'],obs['Lat'])\n",
    "obs"
   ]
  },
  {
   "cell_type": "code",
   "execution_count": 10,
   "metadata": {
    "ExecuteTime": {
     "end_time": "2018-01-06T15:34:38.651009Z",
     "start_time": "2018-01-06T15:34:38.633997Z"
    }
   },
   "outputs": [],
   "source": [
    "# get time values and convert to datetime objects\n",
    "times = nc['time']\n",
    "jd = netCDF4.num2date(times[:],times.units)"
   ]
  },
  {
   "cell_type": "code",
   "execution_count": 11,
   "metadata": {
    "ExecuteTime": {
     "end_time": "2018-01-06T15:34:38.774095Z",
     "start_time": "2018-01-06T15:34:38.657013Z"
    }
   },
   "outputs": [],
   "source": [
    "# get all time steps of water level from each station\n",
    "nsta = len(obs)\n",
    "z = np.ones((len(jd),nsta))\n",
    "for i in range(nsta):\n",
    "    z[:,i] = nc['zeta'][:,obs['0-Based Index'][i]] "
   ]
  },
  {
   "cell_type": "code",
   "execution_count": 12,
   "metadata": {
    "ExecuteTime": {
     "end_time": "2018-01-06T15:34:38.788105Z",
     "start_time": "2018-01-06T15:34:38.779099Z"
    }
   },
   "outputs": [],
   "source": [
    "# make a DataFrame out of the interpolated time series at each location\n",
    "zvals=pd.DataFrame(z,index=jd,columns=obs.index)"
   ]
  },
  {
   "cell_type": "code",
   "execution_count": 13,
   "metadata": {
    "ExecuteTime": {
     "end_time": "2018-01-06T15:34:38.837139Z",
     "start_time": "2018-01-06T15:34:38.797111Z"
    }
   },
   "outputs": [
    {
     "data": {
      "text/html": [
       "<div>\n",
       "<style>\n",
       "    .dataframe thead tr:only-child th {\n",
       "        text-align: right;\n",
       "    }\n",
       "\n",
       "    .dataframe thead th {\n",
       "        text-align: left;\n",
       "    }\n",
       "\n",
       "    .dataframe tbody tr th {\n",
       "        vertical-align: top;\n",
       "    }\n",
       "</style>\n",
       "<table border=\"1\" class=\"dataframe\">\n",
       "  <thead>\n",
       "    <tr style=\"text-align: right;\">\n",
       "      <th>Station</th>\n",
       "      <th>Boston</th>\n",
       "      <th>Scituate Harbor</th>\n",
       "      <th>Sandwich</th>\n",
       "    </tr>\n",
       "  </thead>\n",
       "  <tbody>\n",
       "    <tr>\n",
       "      <th>2017-12-31 00:00:00.000</th>\n",
       "      <td>0.794399</td>\n",
       "      <td>0.735536</td>\n",
       "      <td>0.719491</td>\n",
       "    </tr>\n",
       "    <tr>\n",
       "      <th>2017-12-31 01:01:52.500</th>\n",
       "      <td>1.291461</td>\n",
       "      <td>1.270809</td>\n",
       "      <td>1.273928</td>\n",
       "    </tr>\n",
       "    <tr>\n",
       "      <th>2017-12-31 01:58:07.500</th>\n",
       "      <td>1.624283</td>\n",
       "      <td>1.489700</td>\n",
       "      <td>1.570060</td>\n",
       "    </tr>\n",
       "    <tr>\n",
       "      <th>2017-12-31 03:00:00.000</th>\n",
       "      <td>1.340878</td>\n",
       "      <td>1.263255</td>\n",
       "      <td>1.378449</td>\n",
       "    </tr>\n",
       "    <tr>\n",
       "      <th>2017-12-31 04:01:52.500</th>\n",
       "      <td>0.766562</td>\n",
       "      <td>0.704173</td>\n",
       "      <td>0.761573</td>\n",
       "    </tr>\n",
       "  </tbody>\n",
       "</table>\n",
       "</div>"
      ],
      "text/plain": [
       "Station                    Boston  Scituate Harbor  Sandwich\n",
       "2017-12-31 00:00:00.000  0.794399         0.735536  0.719491\n",
       "2017-12-31 01:01:52.500  1.291461         1.270809  1.273928\n",
       "2017-12-31 01:58:07.500  1.624283         1.489700  1.570060\n",
       "2017-12-31 03:00:00.000  1.340878         1.263255  1.378449\n",
       "2017-12-31 04:01:52.500  0.766562         0.704173  0.761573"
      ]
     },
     "execution_count": 13,
     "metadata": {},
     "output_type": "execute_result"
    }
   ],
   "source": [
    "# list out a few values\n",
    "zvals.head()"
   ]
  },
  {
   "cell_type": "code",
   "execution_count": 14,
   "metadata": {
    "ExecuteTime": {
     "end_time": "2018-01-06T15:34:38.884172Z",
     "start_time": "2018-01-06T15:34:38.849148Z"
    }
   },
   "outputs": [],
   "source": [
    "# make a new DataFrame of maximum water levels at all stations\n",
    "b=pd.DataFrame(zvals.idxmax(),columns=['time of max water level (UTC)'])\n",
    "# create heading for new column containing max water level\n",
    "zmax_heading='zmax (%s)' % nc['zeta'].units\n",
    "# Add new column to DataFrame\n",
    "b[zmax_heading]=zvals.max()"
   ]
  },
  {
   "cell_type": "code",
   "execution_count": 15,
   "metadata": {
    "ExecuteTime": {
     "end_time": "2018-01-06T15:34:38.931205Z",
     "start_time": "2018-01-06T15:34:38.888175Z"
    }
   },
   "outputs": [
    {
     "data": {
      "text/html": [
       "<div>\n",
       "<style>\n",
       "    .dataframe thead tr:only-child th {\n",
       "        text-align: right;\n",
       "    }\n",
       "\n",
       "    .dataframe thead th {\n",
       "        text-align: left;\n",
       "    }\n",
       "\n",
       "    .dataframe tbody tr th {\n",
       "        vertical-align: top;\n",
       "    }\n",
       "</style>\n",
       "<table border=\"1\" class=\"dataframe\">\n",
       "  <thead>\n",
       "    <tr style=\"text-align: right;\">\n",
       "      <th></th>\n",
       "      <th>time of max water level (UTC)</th>\n",
       "      <th>zmax (meters)</th>\n",
       "    </tr>\n",
       "    <tr>\n",
       "      <th>Station</th>\n",
       "      <th></th>\n",
       "      <th></th>\n",
       "    </tr>\n",
       "  </thead>\n",
       "  <tbody>\n",
       "    <tr>\n",
       "      <th>Boston</th>\n",
       "      <td>2018-01-04 18:00:00</td>\n",
       "      <td>2.507097</td>\n",
       "    </tr>\n",
       "    <tr>\n",
       "      <th>Scituate Harbor</th>\n",
       "      <td>2018-01-04 18:00:00</td>\n",
       "      <td>2.388102</td>\n",
       "    </tr>\n",
       "    <tr>\n",
       "      <th>Sandwich</th>\n",
       "      <td>2018-01-04 18:00:00</td>\n",
       "      <td>2.545882</td>\n",
       "    </tr>\n",
       "  </tbody>\n",
       "</table>\n",
       "</div>"
      ],
      "text/plain": [
       "                time of max water level (UTC)  zmax (meters)\n",
       "Station                                                     \n",
       "Boston                    2018-01-04 18:00:00       2.507097\n",
       "Scituate Harbor           2018-01-04 18:00:00       2.388102\n",
       "Sandwich                  2018-01-04 18:00:00       2.545882"
      ]
     },
     "execution_count": 15,
     "metadata": {},
     "output_type": "execute_result"
    }
   ],
   "source": [
    "b"
   ]
  },
  {
   "cell_type": "code",
   "execution_count": 16,
   "metadata": {
    "ExecuteTime": {
     "end_time": "2018-01-06T15:34:39.739771Z",
     "start_time": "2018-01-06T15:34:38.937209Z"
    }
   },
   "outputs": [
    {
     "data": {
      "image/png": "[encoded data removed]",
      "text/plain": [
       "<matplotlib.figure.Figure at 0xa027cc0>"
      ]
     },
     "metadata": {},
     "output_type": "display_data"
    }
   ],
   "source": [
    "# plotting at DataFrame is easy!\n",
    "ax=zvals.plot(figsize=(16,4),grid=True,title=('NECOFS Forecast Water Level from %s Forecast' % model),legend=False);\n",
    "# read units from dataset for ylabel\n",
    "plt.ylabel(nc['zeta'].units)\n",
    "# plotting the legend outside the axis is a bit tricky\n",
    "box = ax.get_position()\n",
    "ax.set_position([box.x0, box.y0, box.width * 0.8, box.height])\n",
    "ax.legend(loc='center left', bbox_to_anchor=(1, 0.5));\n"
   ]
  }
 ],
 "metadata": {
  "gist_id": "ffe8dc6b6e8fa0a105fe",
  "kernelspec": {
   "display_name": "Python [conda env:ioos]",
   "language": "python",
   "name": "conda-env-IOOS3b-py"
  },
  "language_info": {
   "codemirror_mode": {
    "name": "ipython",
    "version": 3
   },
   "file_extension": ".py",
   "mimetype": "text/x-python",
   "name": "python",
   "nbconvert_exporter": "python",
   "pygments_lexer": "ipython3",
   "version": "3.6.2"
  },
  "widgets": {
   "state": {},
   "version": "1.1.2"
  }
 },
 "nbformat": 4,
 "nbformat_minor": 1
}
